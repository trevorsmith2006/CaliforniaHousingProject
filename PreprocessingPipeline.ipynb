{
 "cells": [
  {
   "cell_type": "markdown",
   "metadata": {},
   "source": [
    "# Data Cleaning  \n",
    "In this notebook, we will prepare the data for a Maching Learning algorithm. We will develop a preprocessing pipeline that does the following: \n",
    "1. adds useful attributes\n",
    "2. Deals with missing values\n",
    "3. Encodes any non-numerical data\n",
    "4. Rescales our features to an appropriate range and variance for our algorithm"
   ]
  },
  {
   "cell_type": "code",
   "execution_count": 3,
   "metadata": {},
   "outputs": [],
   "source": [
    "import joblib\n",
    "import os\n",
    "\n",
    "# graphing\n",
    "import matplotlib\n",
    "import matplotlib.pyplot as plt\n",
    "%matplotlib inline\n",
    "\n",
    "import pandas as pd\n",
    "import numpy as np\n",
    "\n",
    "HOUSING_PATH = os.path.join(\"datasets\",\"housing\")\n",
    "\n",
    "def load_housing_data(housing_path=HOUSING_PATH):\n",
    "    csv_path = os.path.join(housing_path, \"housing.csv\")\n",
    "    return pd.read_csv(csv_path)"
   ]
  },
  {
   "cell_type": "code",
   "execution_count": 4,
   "metadata": {},
   "outputs": [],
   "source": [
    "# import our stratified training set from the ExploratoryAnalysis notebook\n",
    "housing = joblib.load(\"StratifiedTrainingSet.pkl\")"
   ]
  },
  {
   "cell_type": "code",
   "execution_count": 5,
   "metadata": {},
   "outputs": [
    {
     "name": "stdout",
     "output_type": "stream",
     "text": [
      "[-1.1851e+02  3.4260e+01  2.9000e+01  2.1195e+03  4.3300e+02  1.1640e+03\n",
      "  4.0800e+02  3.5409e+00  1.7950e+05]\n",
      "[-1.1851e+02  3.4260e+01  2.9000e+01  2.1195e+03  4.3300e+02  1.1640e+03\n",
      "  4.0800e+02  3.5409e+00  1.7950e+05]\n"
     ]
    }
   ],
   "source": [
    "\"\"\"\n",
    "Imputing Missing Numerical Data\n",
    "\"\"\"\n",
    "# for missing values of any attribute, we will use an imputer to fill in the median value\n",
    "# this only works for numerical values, so we will drop ocean_proximity\n",
    "# the only attribute that is missing values here is total_bedrooms, but our solution is general\n",
    "\n",
    "# import and create an imputer object\n",
    "from sklearn.impute import SimpleImputer\n",
    "imputer = SimpleImputer(strategy=\"median\")\n",
    "\n",
    "# drop our categorical attribute\n",
    "housing_num = housing.drop(\"ocean_proximity\",axis=1)\n",
    "\n",
    "# 'fit' the imputer to the data (given our strategy, it calculates the median)\n",
    "imputer.fit(housing_num)\n",
    "\n",
    "# check that the imputer calculated the median\n",
    "print(imputer.statistics_)\n",
    "print(housing_num.median().values)"
   ]
  },
  {
   "cell_type": "code",
   "execution_count": 6,
   "metadata": {},
   "outputs": [],
   "source": [
    "# use the imputer to transform the data and fill missing data.\n",
    "# returns a numpy array\n",
    "X = imputer.transform(housing_num)\n",
    "\n",
    "# convert back to pandas dataframe\n",
    "housing_tr = pd.DataFrame(X, columns=housing_num.columns, index=housing_num.index)"
   ]
  },
  {
   "cell_type": "code",
   "execution_count": 7,
   "metadata": {},
   "outputs": [
    {
     "name": "stdout",
     "output_type": "stream",
     "text": [
      "[[1. 0. 0. 0. 0.]\n",
      " [1. 0. 0. 0. 0.]\n",
      " [0. 0. 0. 0. 1.]\n",
      " [0. 1. 0. 0. 0.]\n",
      " [1. 0. 0. 0. 0.]\n",
      " [0. 1. 0. 0. 0.]\n",
      " [1. 0. 0. 0. 0.]\n",
      " [0. 1. 0. 0. 0.]\n",
      " [1. 0. 0. 0. 0.]\n",
      " [1. 0. 0. 0. 0.]]\n",
      "[array(['<1H OCEAN', 'INLAND', 'ISLAND', 'NEAR BAY', 'NEAR OCEAN'],\n",
      "      dtype=object)]\n"
     ]
    }
   ],
   "source": [
    "\"\"\"\n",
    "Encoding Categorical Data\n",
    "\n",
    "We will encode our ocean_proximity text data to be numerical\n",
    "Since there are only 5 categories, and they are not necessarily \"adjacent\" to one another in the way integers\n",
    "are, we will use one-hot encoding.\n",
    "This will convert our 1 categorical variable into 5 boolean variables. Each data entry will have a value of 1\n",
    "for one of the resulting columns, and 0 for all others.\n",
    "\"\"\"\n",
    "from sklearn.preprocessing import OneHotEncoder\n",
    "\n",
    "# get the column of categorical data\n",
    "housing_cat = housing[[\"ocean_proximity\"]]\n",
    "\n",
    "# create encoder object\n",
    "cat_encoder = OneHotEncoder()\n",
    "\n",
    "# fit the encoder to the data and transform the data at the same time, using fit_transform\n",
    "housing_cat_1hot = cat_encoder.fit_transform(housing_cat)\n",
    "\n",
    "print(housing_cat_1hot.toarray()[:10])\n",
    "print(cat_encoder.categories_)"
   ]
  },
  {
   "cell_type": "code",
   "execution_count": null,
   "metadata": {},
   "outputs": [],
   "source": [
    "\"\"\"\n",
    "Feature Scaling\n",
    "\n",
    "We will employ a standardized scaling approach to the data, since many of our attributes\n",
    "have long positive tails (i.e. many positive outliers)\n",
    "\"\"\"\n"
   ]
  }
 ],
 "metadata": {
  "kernelspec": {
   "display_name": "Python 3",
   "language": "python",
   "name": "python3"
  },
  "language_info": {
   "codemirror_mode": {
    "name": "ipython",
    "version": 3
   },
   "file_extension": ".py",
   "mimetype": "text/x-python",
   "name": "python",
   "nbconvert_exporter": "python",
   "pygments_lexer": "ipython3",
   "version": "3.6.10"
  }
 },
 "nbformat": 4,
 "nbformat_minor": 4
}
